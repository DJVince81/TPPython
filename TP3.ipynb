{
 "cells": [
  {
   "cell_type": "markdown",
   "metadata": {},
   "source": [
    "Mélanger un taquin\n",
    "---"
   ]
  },
  {
   "cell_type": "code",
   "execution_count": 36,
   "metadata": {
    "collapsed": false
   },
   "outputs": [],
   "source": [
    "from tkinter import *\n",
    "from random import *\n",
    "\n",
    "CANVAS_SIDE=400\n",
    "NB_SQUARES=4\n",
    "R=CANVAS_SIDE//NB_SQUARES\n",
    "\n",
    "master=Tk()\n",
    "cnv=Canvas(master, width=CANVAS_SIDE, height=CANVAS_SIDE, bg='ivory')\n",
    "board=[[NB_SQUARES*lin+1+col for col in range(NB_SQUARES)] for lin in range(NB_SQUARES)]\n",
    "\n",
    "def fill_board(cnv, board):\n",
    "    for i in range(NB_SQUARES):\n",
    "        for j in range(NB_SQUARES):\n",
    "            v=board[i][j]\n",
    "            #if not i==j==NB_SQUARES-1:\n",
    "            if not v==NB_SQUARES**2:\n",
    "                cnv.create_rectangle(j*R, i*R, (1+j)*R, (1+i)*R, fill=\"lavender\")\n",
    "                cnv.create_text(j*R+R//2, i*R+R//2, text=v,  font=('courier', CANVAS_SIDE//10, 'bold'))\n",
    "\n",
    "def shuffleTaquin():\n",
    "    while(len(board) != 0):\n",
    "        board.remove(board[0])\n",
    "    for i in range(NB_SQUARES):\n",
    "        board.append([])\n",
    "    for i in range(NB_SQUARES**2):\n",
    "        e = randint(0, NB_SQUARES-1)\n",
    "        while(len(board[e])==NB_SQUARES):\n",
    "            e = randint(0, NB_SQUARES-1)\n",
    "        board[e].append(i+1)\n",
    "    for i in range(NB_SQUARES):\n",
    "        shuffle(board[i])\n",
    "    cnv.delete(\"all\")\n",
    "    fill_board(cnv, board)\n",
    "\n",
    "def button(master, board):\n",
    "    bouton=Button(master, text=\"Random\", command=shuffleTaquin)\n",
    "    bouton.pack()\n",
    "\n",
    "def draw():\n",
    "    cnv.pack()\n",
    "\n",
    "    fill_board(cnv, board)\n",
    "    button(master, board)\n",
    "    master.mainloop()\n",
    "    \n",
    "draw()"
   ]
  },
  {
   "cell_type": "code",
   "execution_count": null,
   "metadata": {
    "collapsed": true
   },
   "outputs": [],
   "source": []
  },
  {
   "cell_type": "code",
   "execution_count": null,
   "metadata": {
    "collapsed": true
   },
   "outputs": [],
   "source": []
  }
 ],
 "metadata": {
  "kernelspec": {
   "display_name": "Python 3",
   "language": "python",
   "name": "python3"
  },
  "language_info": {
   "codemirror_mode": {
    "name": "ipython",
    "version": 3
   },
   "file_extension": ".py",
   "mimetype": "text/x-python",
   "name": "python",
   "nbconvert_exporter": "python",
   "pygments_lexer": "ipython3",
   "version": "3.5.3"
  }
 },
 "nbformat": 4,
 "nbformat_minor": 2
}
