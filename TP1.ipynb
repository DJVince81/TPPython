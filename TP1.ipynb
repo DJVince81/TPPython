{
 "cells": [
  {
   "cell_type": "markdown",
   "metadata": {},
   "source": [
    "Exercice 1 : Puissance 4\n",
    "===\n",
    "Dessiner un plateau du jeu Puissance 4 en respectant les couleurs usuelles."
   ]
  },
  {
   "cell_type": "code",
   "execution_count": 40,
   "metadata": {
    "collapsed": false
   },
   "outputs": [],
   "source": [
    "from tkinter import *\n",
    "\n",
    "root=Tk()\n",
    "# Largeur du canevas\n",
    "W=500\n",
    "# Hauteur du canevas\n",
    "H=400\n",
    "cnv=Canvas(root, width=W, height=H, bg=\"ivory\")\n",
    "cnv.pack()\n",
    "cnv.create_rectangle((20,20),(480,380), fill=\"blue\", outline='')\n",
    "cnv.create_rectangle((0,380),(500,400), fill=\"blue\", outline='')\n",
    "for i in range(6):\n",
    "    for j in range(7):\n",
    "        x=45+60*j\n",
    "        y=30+60*i\n",
    "        if (i==3 or i==5) and j==3:\n",
    "            cnv.create_oval((x,y), (x+50, y+50), fill='red', outline='')\n",
    "        elif (i==4 and j==3) or (i==5 and j==4):\n",
    "            cnv.create_oval((x,y), (x+50, y+50), fill='yellow', outline='')\n",
    "        else:\n",
    "            cnv.create_oval((x,y), (x+50, y+50), fill='ivory', outline='')\n",
    "\n",
    "root.mainloop()"
   ]
  },
  {
   "cell_type": "markdown",
   "metadata": {},
   "source": [
    "Exercice 2 : Forêt\n",
    "===\n",
    "En prévision de la réalisation d’un automate simulateur de feu de forêt, dessiner une forêt (arbres envert) peuplée aléatoirement (utiliser une densité)."
   ]
  },
  {
   "cell_type": "code",
   "execution_count": 69,
   "metadata": {
    "collapsed": false
   },
   "outputs": [],
   "source": [
    "from tkinter import *\n",
    "from random import randrange\n",
    "# Largeur du canevas\n",
    "W=250\n",
    "# Hauteur du canevas\n",
    "H=250\n",
    "\n",
    "def arbre(x, y, proba):\n",
    "    if randrange(100) < proba:\n",
    "        cnv.create_rectangle((x*5,y*5),(x*5+5,y*5+5), fill=\"green\", outline='')\n",
    "        \n",
    "def reset():\n",
    "    cnv.create_rectangle((0, 0),(W,H), fill=\"ivory\", outline='')\n",
    "\n",
    "def densiteArbre(D):\n",
    "    D=int(D)\n",
    "    reset()\n",
    "    for i in range(W//5):\n",
    "        for j in range(H//5):\n",
    "            arbre(i, j, D)\n",
    "\n",
    "root=Tk()\n",
    "cnv=Canvas(root, width=W, height=H, bg=\"ivory\")\n",
    "cnv.pack()\n",
    "curseur = Scale(root, orient =\"horizontal\",command=densiteArbre, from_=0, to=100)\n",
    "curseur.pack()\n",
    "root.mainloop()"
   ]
  },
  {
   "cell_type": "markdown",
   "metadata": {},
   "source": [
    "Exercice 3 : Taquin\n",
    "===\n",
    "En prévision de la réalisation d’un taquin, dessiner le plateau d’un jeu de taquin. La case vide sera enbas à droite et le plateau ne sera pas mélangé."
   ]
  },
  {
   "cell_type": "code",
   "execution_count": 21,
   "metadata": {
    "collapsed": false
   },
   "outputs": [],
   "source": [
    "from tkinter import *\n",
    "# Largeur des cases\n",
    "SIDE=5\n",
    "# Nombre de cases en lignes et colonnes\n",
    "N=4\n",
    "# Largeur du canevas\n",
    "W=SIDE*N\n",
    "# Hauteur du canevas\n",
    "H=SIDE*N\n",
    "\n",
    "root=Tk()\n",
    "for i in range(N):\n",
    "    for j in range(N):\n",
    "        if i*N+j+1 != N**2:\n",
    "            a=Label(root, text=str(i*N+j+1), bg='lightsteelblue2', width=SIDE, height=SIDE)\n",
    "            a.grid(row=i, column=j)\n",
    "root.mainloop()"
   ]
  },
  {
   "cell_type": "markdown",
   "metadata": {
    "collapsed": true
   },
   "source": [
    "Exercice 3 : Solitaire et ses jetons\n",
    "===\n",
    "Dessiner le plateau de jeu de solitaire (avec des pions, pas le jeu de cartes)."
   ]
  },
  {
   "cell_type": "code",
   "execution_count": 156,
   "metadata": {
    "collapsed": false
   },
   "outputs": [],
   "source": [
    "from tkinter import *\n",
    "\n",
    "root=Tk()\n",
    "# Largeur du canevas\n",
    "W=500\n",
    "# Hauteur du canevas\n",
    "H=500\n",
    "# Rayon des pions\n",
    "R=W//25\n",
    "\n",
    "cnv=Canvas(root, width=W, height=H, bg=\"ivory\")\n",
    "cnv.pack()\n",
    "cnv.create_oval((0,0), (W, H), fill='darkorange3', outline='')\n",
    "x=W//2-R\n",
    "y=H//2-R\n",
    "for i in range(3):\n",
    "    x, y = x-(R+R//2)*2, y-R*3\n",
    "Xd = x\n",
    "for i in range(1, 8):\n",
    "    for j in range(1, 8):\n",
    "        if (5>=i>=3) or (5>=j>=3):\n",
    "            if i==4 and j==4:\n",
    "                cnv.create_oval((x,y), (x+R*2, y+R*2), fill='gray', outline='')\n",
    "            else:\n",
    "                cnv.create_oval((x,y), (x+R*2, y+R*2), fill='black', outline='')\n",
    "        x += (R+R//2)*2\n",
    "    x=Xd\n",
    "    y += R*3\n",
    "root.mainloop()"
   ]
  },
  {
   "cell_type": "markdown",
   "metadata": {},
   "source": [
    "Exercice 4 : Multi-pointeur Phaser\n",
    "===\n",
    "Représenter en statique cette animation provenant de la bibliothèque Phaser."
   ]
  },
  {
   "cell_type": "code",
   "execution_count": null,
   "metadata": {
    "collapsed": true
   },
   "outputs": [],
   "source": [
    "from tkinter import Tk, Canvas\n",
    "\n",
    "root=Tk()\n",
    "cnv=Canvas(root, width=500, height=500, bg=\"ivory\")\n",
    "cnv.pack()\n",
    "\n",
    "cnv.create_line(50, 60,150, 60, width=5, arrow='last')\n",
    "root.mainloop()"
   ]
  }
 ],
 "metadata": {
  "kernelspec": {
   "display_name": "Python 3",
   "language": "python",
   "name": "python3"
  },
  "language_info": {
   "codemirror_mode": {
    "name": "ipython",
    "version": 3
   },
   "file_extension": ".py",
   "mimetype": "text/x-python",
   "name": "python",
   "nbconvert_exporter": "python",
   "pygments_lexer": "ipython3",
   "version": "3.5.3"
  }
 },
 "nbformat": 4,
 "nbformat_minor": 2
}
