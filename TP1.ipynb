{
 "cells": [
  {
   "cell_type": "markdown",
   "metadata": {},
   "source": [
    "Exercice 1 : Puissance 4\n",
    "===\n",
    "Dessiner un plateau du jeu Puissance 4 en respectant les couleurs usuelles."
   ]
  },
  {
   "cell_type": "code",
   "execution_count": 40,
   "metadata": {
    "collapsed": false
   },
   "outputs": [],
   "source": [
    "from tkinter import *\n",
    "\n",
    "root=Tk()\n",
    "# Largeur du canevas\n",
    "W=500\n",
    "# Hauteur du canevas\n",
    "H=400\n",
    "cnv=Canvas(root, width=W, height=H, bg=\"ivory\")\n",
    "cnv.pack()\n",
    "cnv.create_rectangle((20,20),(480,380), fill=\"blue\", outline='')\n",
    "cnv.create_rectangle((0,380),(500,400), fill=\"blue\", outline='')\n",
    "for i in range(6):\n",
    "    for j in range(7):\n",
    "        x=45+60*j\n",
    "        y=30+60*i\n",
    "        if (i==3 or i==5) and j==3:\n",
    "            cnv.create_oval((x,y), (x+50, y+50), fill='red', outline='')\n",
    "        elif (i==4 and j==3) or (i==5 and j==4):\n",
    "            cnv.create_oval((x,y), (x+50, y+50), fill='yellow', outline='')\n",
    "        else:\n",
    "            cnv.create_oval((x,y), (x+50, y+50), fill='ivory', outline='')\n",
    "\n",
    "root.mainloop()"
   ]
  },
  {
   "cell_type": "markdown",
   "metadata": {},
   "source": [
    "Exercice 2 : Forêt\n",
    "===\n",
    "En prévision de la réalisation d’un automate simulateur de feu de forêt, dessiner une forêt (arbres envert) peuplée aléatoirement (utiliser une densité)."
   ]
  },
  {
   "cell_type": "code",
   "execution_count": 69,
   "metadata": {
    "collapsed": false
   },
   "outputs": [],
   "source": [
    "from tkinter import *\n",
    "from random import randrange\n",
    "# Largeur du canevas\n",
    "W=250\n",
    "# Hauteur du canevas\n",
    "H=250\n",
    "\n",
    "def arbre(x, y, proba):\n",
    "    if randrange(100) < proba:\n",
    "        cnv.create_rectangle((x*5,y*5),(x*5+5,y*5+5), fill=\"green\", outline='')\n",
    "        \n",
    "def reset():\n",
    "    cnv.create_rectangle((0, 0),(W,H), fill=\"ivory\", outline='')\n",
    "\n",
    "def densiteArbre(D):\n",
    "    D=int(D)\n",
    "    reset()\n",
    "    for i in range(W//5):\n",
    "        for j in range(H//5):\n",
    "            arbre(i, j, D)\n",
    "\n",
    "root=Tk()\n",
    "cnv=Canvas(root, width=W, height=H, bg=\"ivory\")\n",
    "cnv.pack()\n",
    "curseur = Scale(root, orient =\"horizontal\",command=densiteArbre, from_=0, to=100)\n",
    "curseur.pack()\n",
    "root.mainloop()"
   ]
  },
  {
   "cell_type": "markdown",
   "metadata": {},
   "source": [
    "Exercice 3 : Taquin\n",
    "===\n",
    "En prévision de la réalisation d’un taquin, dessiner le plateau d’un jeu de taquin. La case vide sera enbas à droite et le plateau ne sera pas mélangé."
   ]
  },
  {
   "cell_type": "code",
   "execution_count": 70,
   "metadata": {
    "collapsed": true
   },
   "outputs": [],
   "source": [
    "from tkinter import *\n",
    "# Largeur du canevas\n",
    "W=250\n",
    "# Hauteur du canevas\n",
    "H=250"
   ]
  },
  {
   "cell_type": "code",
   "execution_count": null,
   "metadata": {
    "collapsed": true
   },
   "outputs": [],
   "source": []
  }
 ],
 "metadata": {
  "kernelspec": {
   "display_name": "Python 3",
   "language": "python",
   "name": "python3"
  },
  "language_info": {
   "codemirror_mode": {
    "name": "ipython",
    "version": 3
   },
   "file_extension": ".py",
   "mimetype": "text/x-python",
   "name": "python",
   "nbconvert_exporter": "python",
   "pygments_lexer": "ipython3",
   "version": "3.5.3"
  }
 },
 "nbformat": 4,
 "nbformat_minor": 2
}
